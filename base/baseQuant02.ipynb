{
 "cells": [
  {
   "cell_type": "code",
   "id": "effd3fab193c9f38",
   "metadata": {
    "jupyter": {
     "is_executing": true
    }
   },
   "source": [
    "#导入 相关的库\n",
    "import numpy as np\n",
    "import pandas as pd\n",
    "import statsmodels.api as sm\n",
    "import alphalens as al\n",
    "import pulp as pl\n",
    "\n",
    "# 关闭警告信息\n",
    "import warnings \n",
    "warnings.filterwarnings('ignore')\n",
    "\n",
    "# 从CSV文件读取数据\n",
    "file_path = 'F:/quatntData/value_factor/value_factor.csv'\n",
    "data_df = pd.read_csv(file_path,encoding='gbk',index_col=0)\n",
    "# 统一日期格式\n",
    "data_df['日期'] = pd.to_datetime(data_df['日期'])\n",
    "\n",
    "# 设置 评价因子\n",
    "factor_name = 'pb'\n",
    "\n",
    "# 生成数据\n",
    "factor_data = data_df.set_index(['日期','股票代码'])[factor_name]\n",
    "factor = data_df.set_index(['日期','股票代码'])[factor_name]\n",
    "prices = data_df.pivot(index='日期', columns='股票代码', values='开盘价')\n",
    "prices = prices.shift(-1)  # 将第二天的开盘价作为交易价格，避免用到“未来数据”\n",
    "\n",
    "# 预处理因子数据 \n",
    "fac_data = al.utils.get_clean_factor_and_forward_returns(\n",
    "    factor=factor,\n",
    "    prices = prices,\n",
    "    quantiles=10,\n",
    "    periods=(1,10)\n",
    ")\n",
    "# 生成因子 性能报告 \n",
    "al.tears.create_full_tear_sheet(factor_data)\n"
   ],
   "outputs": [],
   "execution_count": null
  },
  {
   "metadata": {
    "jupyter": {
     "is_executing": true
    }
   },
   "cell_type": "code",
   "source": "",
   "id": "e6c1ec7753a8e639",
   "outputs": [],
   "execution_count": null
  },
  {
   "metadata": {},
   "cell_type": "code",
   "outputs": [],
   "execution_count": null,
   "source": "",
   "id": "31fd64ae8d57c6fe"
  }
 ],
 "metadata": {
  "kernelspec": {
   "display_name": "Python 3 (ipykernel)",
   "language": "python",
   "name": "python3"
  },
  "language_info": {
   "codemirror_mode": {
    "name": "ipython",
    "version": 3
   },
   "file_extension": ".py",
   "mimetype": "text/x-python",
   "name": "python",
   "nbconvert_exporter": "python",
   "pygments_lexer": "ipython3",
   "version": "3.9.18"
  }
 },
 "nbformat": 4,
 "nbformat_minor": 5
}
