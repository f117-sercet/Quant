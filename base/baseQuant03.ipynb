{
 "cells": [
  {
   "cell_type": "code",
   "execution_count": null,
   "id": "initial_id",
   "metadata": {
    "collapsed": true
   },
   "outputs": [],
   "source": [
    "import pandas as pd\n",
    "import alphalens as al\n",
    "# 关闭警告信息\n",
    "import warnings \n",
    "warnings.filterwarnings('ingore')\n",
    "# 生成符合Alphalens要求格式的因子值数据\n",
    "factor_name = 'MOM_10'\n",
    "factor = df.set_index(['trade_date','stock_code'])[factor_name]\n",
    "\n",
    "# 生成符合Alphalens要求格式的交易价格数据\n",
    "prices = df.pivot(index='trade_date', columns='stock_code', values='open')\n",
    "prices = prices.shift(-1)  # 将第二天的开盘价作为交易价格，避免用到“未来数据”\n",
    "\n",
    "# 预处理因子数据，得到符合Alphalens需要的数据格式。\n",
    "factor_data = al.utils.get_clean_factor_and_forward_returns(\n",
    "    factor=factor,\n",
    "    prices=prices,\n",
    "    quantiles=10,\n",
    "    periods=(5,))\n",
    "    \n",
    "# 计算因子分组收益\n",
    "al.tears.create_returns_tear_sheet(factor_data)"
   ]
  }
 ],
 "metadata": {
  "kernelspec": {
   "display_name": "Python 3",
   "language": "python",
   "name": "python3"
  },
  "language_info": {
   "codemirror_mode": {
    "name": "ipython",
    "version": 2
   },
   "file_extension": ".py",
   "mimetype": "text/x-python",
   "name": "python",
   "nbconvert_exporter": "python",
   "pygments_lexer": "ipython2",
   "version": "2.7.6"
  }
 },
 "nbformat": 4,
 "nbformat_minor": 5
}
