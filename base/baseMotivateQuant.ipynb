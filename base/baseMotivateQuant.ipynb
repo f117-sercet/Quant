{
 "cells": [
  {
   "cell_type": "code",
   "execution_count": null,
   "id": "initial_id",
   "metadata": {
    "collapsed": true
   },
   "outputs": [],
   "source": [
    "# 导入相关的库\n",
    "import numpy as np\n",
    "import pandas as pd\n",
    "import statsmodels.api as sm\n",
    "import alphalens as al\n",
    "import warnings \n",
    "# 关闭警告信息\n",
    "import warnings\n",
    "warnings.filterwarnings('ignore')\n",
    "\n",
    "# 关闭警告信息\n",
    "warnings.filterwarnings('ignore')\n",
    "\n",
    "# 从csv文件读取数据  \n",
    "file_path = 'F:/quatntData/value_factor/price.csv'\n",
    "price_df = pd.read_csv(file_path, encoding='gbk', index_col=0) \n",
    "price_df['trade_date'] = pd.to_datetime(price_df['trade_date'])  # 将日期统一为datetime格式\n",
    "\n",
    "# 计算动量因子\n",
    "price_df['MOM_10'] = price_df.groupby('stock_code')['close'].pct_change(10)  # 10天的mom因子\n",
    "price_df['MOM_100'] = price_df.groupby('stock_code')['close'].pct_change(100)  # 100天的mom因子\n",
    "price_df['MOM_200'] = price_df.groupby('stock_code')['close'].pct_change(200)  # 200天的mom因子\n",
    "\n",
    "# 选取2010年之后的数据\n",
    "df = price_df[price_df['trade_date']>='2010-01-01']  \n",
    "df = df[['trade_date', 'stock_code', 'open', 'MOM_10', 'MOM_100', 'MOM_200']].reset_index(drop=True)\n",
    "\n",
    "print(df)\n",
    "\n",
    "\n",
    "# 生成符合Alphalens要求格式的因子值数据\n",
    "factor_name = 'MOM_10'\n",
    "factor = df.set_index(['trade_date','stock_code'])[factor_name]\n",
    "\n",
    "# 生成符合Alphalens要求格式的交易价格数据\n",
    "prices = df.pivot(index='trade_date', columns='stock_code', values='open')\n",
    "prices = prices.shift(-1)  # 将第二天的开盘价作为交易价格，避免用到“未来数据”\n",
    "\n",
    "# 预处理因子数据，得到符合Alphalens需要的数据格式。\n",
    "factor_data = al.utils.get_clean_factor_and_forward_returns(\n",
    "    factor=factor,\n",
    "    prices=prices,\n",
    "    quantiles=10,\n",
    "    periods=(5,))\n",
    "    \n",
    "# 计算因子分组收益\n",
    "al.tears.create_returns_tear_sheet(factor_data)\n"
   ]
  }
 ],
 "metadata": {
  "kernelspec": {
   "display_name": "Python 3",
   "language": "python",
   "name": "python3"
  },
  "language_info": {
   "codemirror_mode": {
    "name": "ipython",
    "version": 2
   },
   "file_extension": ".py",
   "mimetype": "text/x-python",
   "name": "python",
   "nbconvert_exporter": "python",
   "pygments_lexer": "ipython2",
   "version": "2.7.6"
  }
 },
 "nbformat": 4,
 "nbformat_minor": 5
}
