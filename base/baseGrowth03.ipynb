{
 "cells": [
  {
   "cell_type": "code",
   "execution_count": null,
   "id": "initial_id",
   "metadata": {
    "collapsed": true
   },
   "outputs": [],
   "source": [
    "import pandas as pd\n",
    "\n",
    "import pandas as pd\n",
    "import alphalens as al\n",
    "\n",
    "# 从CSV文件读取量价数据\n",
    "file_path = \"F:/quatntData/value_factor/price.csv\"   # 文件的路径和文件名，注意：此处要换成你的文件地址\n",
    "price_df = pd.read_csv(file_path, encoding='gbk', index_col=0) \n",
    "price_df['trade_date'] = pd.to_datetime(price_df['trade_date'])  # 将日期统一为datetime格式\n",
    "\n",
    "# 计算波动率因子\n",
    "price_df['STD_10'] = price_df.groupby('stock_code')['close'].rolling(10).std().reset_index(level=0, drop=True)\n",
    "price_df['STD_100'] = price_df.groupby('stock_code')['close'].rolling(100).std().reset_index(level=0, drop=True)\n",
    "price_df['STD_200'] = price_df.groupby('stock_code')['close'].rolling(200).std().reset_index(level=0, drop=True)\n",
    "\n",
    "# 选取2010年之后的数据\n",
    "df = price_df[price_df['trade_date']>='2010-01-01']  \n",
    "df = df[['trade_date', 'stock_code', 'open', 'STD_10', 'STD_100', 'STD_200']].reset_index(drop=True)  \n",
    "\n",
    "import pandas as pd\n",
    "import alphalens as al\n",
    "# 关闭警告信息\n",
    "import warnings\n",
    "warnings.filterwarnings('ignore')\n",
    "\n",
    "# 生成符合Alphalens要求格式的因子值数据\n",
    "factor_name ='STD_10'\n",
    "factor = df.set_index(['trade_date','stock_code'])[factor_name]\n",
    "factor\n",
    "\n",
    "# 生成符合Alphalens要求格式的交易价格数据\n",
    "prices = df.pivot(index='trade_date', columns='stock_code', values='open')\n",
    "prices = prices.shift(-1)  # 将第二天的开盘价作为交易价格，避免用到“未来数据”\n",
    "\n",
    "# 预处理因子数据，得到符合Alphalens需要的数据格式。\n",
    "factor_data = al.utils.get_clean_factor_and_forward_returns(\n",
    "    factor=factor,\n",
    "    prices=prices,\n",
    "    quantiles=10,\n",
    "    periods=(1,))\n",
    "\n",
    "# 计算因子分组收益\n",
    "al.tears.create_returns_tear_sheet(factor_data)"
   ]
  }
 ],
 "metadata": {
  "kernelspec": {
   "display_name": "Python 3",
   "language": "python",
   "name": "python3"
  },
  "language_info": {
   "codemirror_mode": {
    "name": "ipython",
    "version": 2
   },
   "file_extension": ".py",
   "mimetype": "text/x-python",
   "name": "python",
   "nbconvert_exporter": "python",
   "pygments_lexer": "ipython2",
   "version": "2.7.6"
  }
 },
 "nbformat": 4,
 "nbformat_minor": 5
}
