{
 "cells": [
  {
   "cell_type": "code",
   "id": "initial_id",
   "metadata": {
    "collapsed": true,
    "jupyter": {
     "is_executing": true
    }
   },
   "source": [
    "# 导入相关的库存\n",
    "import numpy as np\n",
    "import pandas as pd\n",
    "import pulp as pl\n",
    "import statsmodels.api as sm\n",
    "import alphalens as al\n",
    "import warnings\n",
    "    \n",
    "warnings.filterwarnings('ignore')\n",
    "\n",
    "# 从CSV文件读取数据\n",
    "file_path = 'F:/quatntData/value_factor/value_factor.csv'  # 文件的路径和文件名，注意：此处要换成你的文件地址\n",
    "data_df = pd.read_csv(file_path, encoding='gbk', index_col=0)\n",
    "data_df['日期'] = pd.to_datetime(data_df['日期'])  # 将日期统一为datetime格式\n",
    "\n",
    "# 设置将要评价的因子\n",
    "factor_name = 'ps_ttm'\n",
    "\n",
    "# 生成符合Alphalens要求格式的因子值数据\n",
    "\n",
    "factor = data_df.set_index(['日期', '股票代码'])[factor_name]\n",
    "# 生成符合Alphalens要求格式的交易价格数据\n",
    "prices = data_df.pivot(index='日期', columns='股票代码', values='开盘价')\n",
    "prices = prices.shift(-1)  # 将第二天的开盘价作为交易价格，避免用到“未来数据”\n",
    "\n",
    "# 预处理因子数据，得到符合Alphalens需要的数据格式。\n",
    "factor_data = al.utils.get_clean_factor_and_forward_returns(\n",
    "        factor=factor,\n",
    "        prices=prices,\n",
    "        quantiles=10,\n",
    "        periods=(1, 10))\n",
    "\n",
    "# 生成因子性能报告\n",
    "shows = al.tears.create_full_tear_sheet(factor_data)"
   ],
   "outputs": [],
   "execution_count": null
  },
  {
   "metadata": {
    "jupyter": {
     "is_executing": true
    }
   },
   "cell_type": "code",
   "source": "",
   "id": "65426804f6be9a3f",
   "outputs": [],
   "execution_count": null
  },
  {
   "metadata": {},
   "cell_type": "code",
   "outputs": [],
   "execution_count": null,
   "source": "",
   "id": "42b226f43daa06ef"
  }
 ],
 "metadata": {
  "kernelspec": {
   "display_name": "Python 3",
   "language": "python",
   "name": "python3"
  },
  "language_info": {
   "codemirror_mode": {
    "name": "ipython",
    "version": 2
   },
   "file_extension": ".py",
   "mimetype": "text/x-python",
   "name": "python",
   "nbconvert_exporter": "python",
   "pygments_lexer": "ipython2",
   "version": "2.7.6"
  }
 },
 "nbformat": 4,
 "nbformat_minor": 5
}
